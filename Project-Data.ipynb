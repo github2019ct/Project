{
 "cells": [
  {
   "cell_type": "markdown",
   "metadata": {},
   "source": [
    "# The Battle of Neighborhoods\n",
    "## Data"
   ]
  },
  {
   "cell_type": "markdown",
   "metadata": {},
   "source": [
    "For this project, I used the free online data (https://geo.nyu.edu/catalog/nyu_2451_34572) for New York city. \n",
    "\n",
    "This dataset has a total of 5 boroughs and 306 neighborhoods of New York city, as well as the the latitude and logitude coordinates of each neighborhood. All the usefull data is in the 'features' key. So first I got this part of data. Then I transformed the data into a pandas dataframe which included four columns, as Borough, Neighborhood, Latitude and Longitude respectly. In order to visualizat the neighborhood of New York city, I imported python library, geopy library and folium library to create a map of New York city. But this dataset consist of too much neighborhoods. I simplified the dataset by selecting the neighborhoods only in borough of Manhattan and created a new dataframe. The map of Manhattan borough was created too. \n"
   ]
  },
  {
   "cell_type": "markdown",
   "metadata": {},
   "source": [
    "Another dataset that I will use in this project is the online wikipedia webpage (https://en.wikipedia.org/wiki/List_of_postal_codes_of_Canada:_M) for Tronto city.\n",
    "\n",
    "Since it's a table in the webpage, I imported library of BeautifulSoup to clean the html file. I slicsed the data from Toronto region table and created a pandas dataframe with columns of Postcode, Borough and Neighborhoods for further analysis. Similar to New York city, I imported geopy library and foium library for making a map. There are totally 11 borough and 103 neighborhoods in this dataframe. I simplified the dataset by selecting the neighborhoods with key word toronto in the borough name. Then I created a map of central Toronto city."
   ]
  },
  {
   "cell_type": "markdown",
   "metadata": {},
   "source": [
    "After cleaning, selecting and visualizing the dataset, I utilized Foursquare API to explore the neighborhoods of Manhattan and central Toronto. Foursquare API has a massive dataset of location data. They crowdsourced their data and then we can build our dataset and add venues and explore the region that we are interested in. In my project, I requested the top 100 venus in Manhattan and central Toronto region with four columns of venus name, venus catogories, venus latitude and longitude respectly. \n",
    "\n",
    "Before analyzing the dataset, I need to create a new dataframe including neighborhood name, neighborhood latitude, neighborhood longtitude, venus name, venus latitude, venus longtitude and venus categories of Mahattan and Toronto respectively. Then I input each time the venus was visited. Now I can group rows by neighborhood name and take the mean of the frequency of occurrence of each venus category. Then the dataframes of the top ten most common venus were created for Manhatten and Toronto. \n",
    "\n",
    "After I customerize the dataset, I can apply customer segmentation on this historical data. The algorithms that I used for segmentation is K-means clustering. The number of cluster that I choosed is 5. I imported Kmeans to cluster the dataset and imported forlium to visualize the five  clusters.\n"
   ]
  },
  {
   "cell_type": "code",
   "execution_count": null,
   "metadata": {},
   "outputs": [],
   "source": []
  }
 ],
 "metadata": {
  "kernelspec": {
   "display_name": "Python 2",
   "language": "python",
   "name": "python2"
  },
  "language_info": {
   "codemirror_mode": {
    "name": "ipython",
    "version": 2
   },
   "file_extension": ".py",
   "mimetype": "text/x-python",
   "name": "python",
   "nbconvert_exporter": "python",
   "pygments_lexer": "ipython2",
   "version": "2.7.15"
  }
 },
 "nbformat": 4,
 "nbformat_minor": 2
}
