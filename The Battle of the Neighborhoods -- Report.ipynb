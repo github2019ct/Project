{
 "cells": [
  {
   "cell_type": "markdown",
   "metadata": {},
   "source": [
    "# The Battle of the Neighborhoods Report"
   ]
  },
  {
   "cell_type": "markdown",
   "metadata": {},
   "source": [
    "## - Choosing the neighborhood for opening a restaurant in Los Angeles"
   ]
  },
  {
   "cell_type": "markdown",
   "metadata": {},
   "source": [
    "## Introduction/Business Problem\n",
    "\n",
    "### Los Angeles is a very diverse city and it is one of the financial capitals of USA. So it's a good place to open a business, like a restaurant. One of the most important things about opening a restaurant is to choose the right location. This decision is based on your target market. Also knowing if there is already lots of competition restaurant in that area is important too. Do some serious research on the target location is really helpful. So I will do the segmenting and clustering the neighborhoods of Los Angeles to explore and analyze the neighborhoods. Based on these data analysis, people can choose which location is better for opening a restaurant in Los Angeles region. "
   ]
  },
  {
   "cell_type": "markdown",
   "metadata": {},
   "source": [
    "## Data"
   ]
  },
  {
   "cell_type": "markdown",
   "metadata": {},
   "source": [
    "### For this project, I used the online Wikipedia web page (https://en.wikipedia.org/wiki/List_of_districts_and_neighborhoods_of_Los_Angeles) to get the neighborhoods of Los Angeles city.\n",
    "\n",
    "### Since it's a table in the web page, I imported library of BeautifulSoup to clean the html file. I sliced the data from the web page contained the neighborhoods names and created a pandas data frame with one column of Neighborhoods for further analysis. Then I imported nominatim to find the latitude and longitude of the corresponding neighborhood followed by inserting into the previous data frame with column names of latitude and longitude. Then I imported geopy library and foium library for making a map. There are totally 176 neighborhoods in this data frame. I created a map of neighborhoods of Los Angeles city.\n",
    "\n",
    "### After cleaning, selecting and visualizing the data set, I utilized Foursquare API to explore the neighborhoods of Los Angeles. Foursquare API has a massive data set of location data. They crowd sourced their data and then we can build our data set and add venues and explore the region that we are interested in. In my project, I requested the top 100 venues in Los Angeles region with four columns of venues name, venues categories, venues latitude and longitude respectively. \n",
    "\n",
    "### Before analyzing the data set, I need to create a new data frame including neighborhood name, neighborhood latitude, neighborhood longitude, venues name, venues latitude, venus longitude and venus categories. Then I inputted each time the venues was visited. Now I can group rows by neighborhood name and take the mean of the frequency of occurrence of each venues category. Then the data frames of the top ten most common venues were created. \n",
    "\n",
    "### After I customize the data set, I can apply customer segmentation on this historical data. The algorithms that I used for segmentation is K-means clustering. The number of cluster that I chose is 5. I imported K-means to cluster the data set and imported forlium to visualize the five  clusters."
   ]
  },
  {
   "cell_type": "markdown",
   "metadata": {},
   "source": [
    "## Methodology"
   ]
  },
  {
   "cell_type": "markdown",
   "metadata": {},
   "source": [
    "### For my project, I choose K-means clustering as the model to analyze the data that obtained from Foursquare API. K-means clustering is a type of unsupervised learning, which is used when you have unlabeled data (i.e., data without defined categories or groups). The goal of this algorithm is to find groups in the data, with the number of groups represented by the variable K. The algorithm works iteratively to assign each data point to one of K groups based on the features that are provided. Data points are clustered based on feature similarity. The results of the K-means clustering algorithm are the centroids of the K clusters.Rather than defining groups before looking at the data, clustering allows you to find and analyze the groups that have formed organically.\n",
    "\n",
    "### The K-means clustering algorithm is used in my project to find groups which have not been explicitly labeled in the data. The results can be used to help make a decision of open a restaurant assumptions. In other words, it can give suggestion about what types of groups exist is good for opening what kind of restaurant. Once the algorithm has been run and the groups are defined, any new data can be easily assigned to the correct group."
   ]
  },
  {
   "cell_type": "markdown",
   "metadata": {},
   "source": [
    "## Results"
   ]
  },
  {
   "cell_type": "markdown",
   "metadata": {},
   "source": [
    "### I used Foursquare API to explore the venues in each neighborhood. Foursquare is a technology company that built a massive data set of location data. What is interesting about Foursquare is that they were very smart about building their data set. I defined a function with Python to get the venues in a neighborhood with the corresponding latitude and longitude and then put these venues in a data frame. Then I tried to get the top 100 venues that are in each neighborhood within a radius of 500 meters. The results shows that there is 3122 venues in total for 138 neighborhoods. And there are 318 unique venues categories in total.\n",
    "\n",
    "### Then I used K-means clustering algorithm to calculate the obtained venues data set. The first step of calculation is to input the venues obtained from Foursquare into a data frame. The second step is to get the mean of the frequency of occurrence of each category of venues grouped by the neighborhood. Third step is to get the top ten most frequently visited venues in each neighborhood and put them into a data frame. Last step is to import K-Means from sklearn.cluster and do the calculation with k=5. Then I labeled the cluster with corresponding numbers.\n",
    "\n",
    "### Next is to visualize the obtained clusters in a map. After importing matplotlib.cm and matplotlib.colors, I create a map which showed the five clusters with different colors of Los Angeles neighborhoods."
   ]
  },
  {
   "cell_type": "markdown",
   "metadata": {},
   "source": [
    "## Discussion"
   ]
  },
  {
   "cell_type": "markdown",
   "metadata": {},
   "source": [
    "### Let's look at the first cluster I have. There are 115 neighborhoods in this cluster. In this cluster the diversity of the type of restaurant is significant. It ranges from fast food like food truck, taco place to different type of restaurant like Chinese restaurant,Japanese restaurant, Seafood restaurant et al. So in these neighborhoods, I think it's the perfect place to open a restaurant. Because fast food or restaurant are on the top listed visiting place. People frequently to eat outside. Also all types of restaurant can be found. That means you have a wide range of choice of the type of restaurant.\n",
    "\n",
    "### In cluster 2, four neighborhoods were included. In these four neighborhoods, the first most common venues are all pizza place. This fact indicate that pizza is popular in these two neighborhoods. So open a pizza place is a good suggestion. But one the other side, the competition of pizza place should be considered too. Since other types of restaurant is also acceptable in these neighborhoods, other kinds of restaurant is also be good choice.\n",
    "\n",
    "### There are only two neighborhoods in cluster 3. Similar to cluster 2, the first most common venues are both Chinese restaurant. So the suggestion for these two neighborhoods are opening a Chinese restaurant is the best choice. And other types of restaurant are also acceptable.\n",
    "\n",
    "### In cluster 4, fifteen neighborhoods were studied. The top 3 most common venues are public place like park and excise place like trail or basketball court. So my suggestion for these places to open a restaurant is fast food. Actually the food court and food truck are in top 3 most common venues. Other types of restaurant is also an option.\n",
    "\n",
    "### In cluster 5, there are only two neighborhoods too. These two neighborhoods are unique. They are Hollywood region. The most common venues are exactly the same. And only English restaurant and Ethiopian restaurant are welcomed here. So the suggestion of open a restaurant in these two neighborhoods definitely are English restaurant or Ethiopian restaurant."
   ]
  },
  {
   "cell_type": "markdown",
   "metadata": {},
   "source": [
    "## Conclusions"
   ]
  },
  {
   "cell_type": "markdown",
   "metadata": {},
   "source": [
    "### In this project, I analyzed the neighborhoods of Los Angeles with data set that obtained from Foursquare API. I chose k-mean clustering algorithm to built the model. And I visualized the results by creating a map. The model that I made can be very useful in helping people choose how to open a certain type of restaurant in the better neighborhood. For example, I create five clusters for all neighborhoods in Los Angeles region. For each cluster, the venues showed the most common venues they visited recently. So we can decide what kind of restaurant we can open in certain place."
   ]
  },
  {
   "cell_type": "code",
   "execution_count": null,
   "metadata": {},
   "outputs": [],
   "source": []
  }
 ],
 "metadata": {
  "kernelspec": {
   "display_name": "Python 2",
   "language": "python",
   "name": "python2"
  },
  "language_info": {
   "codemirror_mode": {
    "name": "ipython",
    "version": 2
   },
   "file_extension": ".py",
   "mimetype": "text/x-python",
   "name": "python",
   "nbconvert_exporter": "python",
   "pygments_lexer": "ipython2",
   "version": "2.7.15"
  }
 },
 "nbformat": 4,
 "nbformat_minor": 2
}
