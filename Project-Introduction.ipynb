{
 "cells": [
  {
   "cell_type": "markdown",
   "metadata": {},
   "source": [
    "# The Battle of Neighborhoods\n",
    "## Introduction"
   ]
  },
  {
   "cell_type": "markdown",
   "metadata": {},
   "source": [
    "New York City and the city of Toronto are both very diverse and are the financial capitals of their respective countries. So they are both good place to open a business, like a restraunt. One of the most important things about opening a restraunt is to choose the right location. This decision is based on your target market. Also knowing if there is already lots of competition restraunt in that area is important too. Do some searious research on the target location is really helpful. So I will do the segmenting and clustering the neighborhoods of New York City and the city of Toronto to explore and analyze these two locations. Based on these data analysis, I can choose which location is better for openning a restraunt. "
   ]
  },
  {
   "cell_type": "code",
   "execution_count": null,
   "metadata": {},
   "outputs": [],
   "source": []
  }
 ],
 "metadata": {
  "kernelspec": {
   "display_name": "Python 2",
   "language": "python",
   "name": "python2"
  },
  "language_info": {
   "codemirror_mode": {
    "name": "ipython",
    "version": 2
   },
   "file_extension": ".py",
   "mimetype": "text/x-python",
   "name": "python",
   "nbconvert_exporter": "python",
   "pygments_lexer": "ipython2",
   "version": "2.7.15"
  }
 },
 "nbformat": 4,
 "nbformat_minor": 2
}
