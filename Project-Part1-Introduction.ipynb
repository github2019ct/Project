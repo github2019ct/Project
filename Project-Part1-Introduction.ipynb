{
 "cells": [
  {
   "cell_type": "markdown",
   "metadata": {},
   "source": [
    "# Choosing the neighborhood for a business in Los Angeles"
   ]
  },
  {
   "cell_type": "markdown",
   "metadata": {},
   "source": [
    "## Introduction"
   ]
  },
  {
   "cell_type": "markdown",
   "metadata": {},
   "source": [
    "Los Angeles is a very diverse city and it is one of the financial capitals of USA. So it's a good place to open a business, like a restraunt. One of the most important things about opening a restraunt is to choose the right location. This decision is based on your target market. Also knowing if there is already lots of competition restraunt in that area is important too. Do some searious research on the target location is really helpful. So I will do the segmenting and clustering the neighborhoods of Los Angeles to explore and analyze the neighborhoods. Based on these data analysis, people can choose which location is better for openning a restraunt in Los Angeles region. "
   ]
  },
  {
   "cell_type": "code",
   "execution_count": null,
   "metadata": {},
   "outputs": [],
   "source": []
  }
 ],
 "metadata": {
  "kernelspec": {
   "display_name": "Python 2",
   "language": "python",
   "name": "python2"
  },
  "language_info": {
   "codemirror_mode": {
    "name": "ipython",
    "version": 2
   },
   "file_extension": ".py",
   "mimetype": "text/x-python",
   "name": "python",
   "nbconvert_exporter": "python",
   "pygments_lexer": "ipython2",
   "version": "2.7.15"
  }
 },
 "nbformat": 4,
 "nbformat_minor": 2
}
